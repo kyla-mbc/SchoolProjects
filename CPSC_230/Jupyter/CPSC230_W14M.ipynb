{
 "cells": [
  {
   "cell_type": "markdown",
   "metadata": {},
   "source": [
    "## Installation\n",
    "You should just be able to install using \"pip install jupyterLab\"\n",
    "                                     and \"pip install notebook\"\n",
    "\n",
    "## Other options\n",
    "Or you can use the browser https://jupyter.org/try-jupyter/lab/?path=notebooks%2FIntro.ipynb"
   ]
  },
  {
   "cell_type": "code",
   "execution_count": null,
   "metadata": {},
   "outputs": [],
   "source": [
    "# This is Code\n",
    "print(\"Hello Jupyter!\")"
   ]
  },
  {
   "cell_type": "markdown",
   "metadata": {},
   "source": [
    "## This is text\n",
    "Below is a function that will print the user's name"
   ]
  },
  {
   "cell_type": "code",
   "execution_count": null,
   "metadata": {},
   "outputs": [],
   "source": [
    "def say_hello(recipient):\n",
    "    return str(\"Hello, \" + recipient + \"!!\")\n",
    "\n",
    "say_hello('Cas')"
   ]
  },
  {
   "cell_type": "code",
   "execution_count": null,
   "metadata": {},
   "outputs": [],
   "source": [
    "# This won't work without running the previous chunk\n",
    "say_hello(\"George\")"
   ]
  },
  {
   "cell_type": "markdown",
   "metadata": {},
   "source": [
    "## Libraries\n",
    "Remember, you can install these by entering \"pip install numpy\" into the terminal"
   ]
  },
  {
   "cell_type": "code",
   "execution_count": null,
   "metadata": {},
   "outputs": [],
   "source": [
    "import numpy as np\n",
    "import pandas as pd\n",
    "import matplotlib.pyplot as plt\n",
    "import seaborn as sns"
   ]
  },
  {
   "cell_type": "markdown",
   "metadata": {},
   "source": [
    "Read in Data"
   ]
  },
  {
   "cell_type": "code",
   "execution_count": null,
   "metadata": {},
   "outputs": [],
   "source": [
    "MatData = pd.read_csv('MatTesting.csv') \n",
    "type(MatData)\n",
    "print(MatData.head(5))"
   ]
  },
  {
   "cell_type": "markdown",
   "metadata": {},
   "source": [
    "Plotting"
   ]
  },
  {
   "cell_type": "code",
   "execution_count": null,
   "metadata": {},
   "outputs": [],
   "source": [
    "# create a grouped boxplot using seaborn\n",
    "sns.boxplot(data = MatData, \n",
    "            x = 'shape', \n",
    "            y = 'MaxLoad', \n",
    "            hue = 'spacing')"
   ]
  },
  {
   "cell_type": "code",
   "execution_count": null,
   "metadata": {},
   "outputs": [],
   "source": [
    "#matplotlib scatter plots\n",
    "plt.scatter(MatData['spacing'], MatData['MaxLoad'], c =\"blue\")\n",
    " \n",
    "# To show the plot\n",
    "plt.show()"
   ]
  },
  {
   "cell_type": "code",
   "execution_count": null,
   "metadata": {},
   "outputs": [],
   "source": [
    "# seaborn grouped scatter plots\n",
    "sns.relplot(data = MatData, \n",
    "            x = 'spacing', \n",
    "            y = 'MaxLoad', \n",
    "            hue = 'shape')"
   ]
  },
  {
   "cell_type": "markdown",
   "metadata": {},
   "source": [
    "Summary Statistics"
   ]
  },
  {
   "cell_type": "code",
   "execution_count": null,
   "metadata": {},
   "outputs": [],
   "source": [
    "## what is the median work done?\n",
    "MatData[\"Work\"].mean()\n",
    "## print and round to two decimal places\n",
    "print(\"Mean work is:\", round(MatData[\"Work\"].mean(),2))\n",
    "\n",
    "## summary statiscits (means, standard deviation, quartiles, etc)\n",
    "MatData.describe()"
   ]
  },
  {
   "cell_type": "markdown",
   "metadata": {},
   "source": [
    "Simple Plot\n"
   ]
  },
  {
   "cell_type": "code",
   "execution_count": null,
   "metadata": {},
   "outputs": [],
   "source": [
    "#Simple Plot\n",
    "import matplotlib.pyplot as plt\n",
    "\n",
    "x = [1, 2, 3, 4, 5]\n",
    "y = [2, 4, 6, 8, 10]\n",
    "plt.plot(x, y)\n",
    "plt.xlabel('X-axis Label')\n",
    "plt.ylabel('Y-axis Label')\n",
    "plt.title('Simple Plot Example')\n",
    "plt.show()"
   ]
  },
  {
   "cell_type": "markdown",
   "metadata": {},
   "source": [
    "Bar Chart"
   ]
  },
  {
   "cell_type": "code",
   "execution_count": null,
   "metadata": {},
   "outputs": [],
   "source": [
    "#Bar Chart\n",
    "import matplotlib.pyplot as plt\n",
    "\n",
    "# Sample data\n",
    "categories = ['Category A', 'Category B', 'Category C', 'Category D']\n",
    "values = [25, 40, 30, 50]\n",
    "plt.bar(categories, values, color='green', alpha=0.7)\n",
    "plt.xlabel('Categories')\n",
    "plt.ylabel('Values')\n",
    "plt.title('Bar Chart Example')\n",
    "plt.show()"
   ]
  },
  {
   "cell_type": "markdown",
   "metadata": {},
   "source": [
    "Scatter Plot"
   ]
  },
  {
   "cell_type": "code",
   "execution_count": null,
   "metadata": {},
   "outputs": [],
   "source": [
    "#Scatter Plot\n",
    "import matplotlib.pyplot as plt\n",
    "import numpy as np\n",
    "np.random.seed(42)\n",
    "x = np.random.rand(10)\n",
    "y = np.random.rand(10)\n",
    "\n",
    "plt.scatter(x, y, color='red', label='Random Data')\n",
    "plt.xlabel('X-axis Label')\n",
    "plt.ylabel('Y-axis Label')\n",
    "plt.title('Scatter Plot Example')\n",
    "plt.legend()\n",
    "plt.show()\n"
   ]
  },
  {
   "cell_type": "markdown",
   "metadata": {},
   "source": [
    "GUI.PY"
   ]
  },
  {
   "cell_type": "code",
   "execution_count": null,
   "metadata": {},
   "outputs": [],
   "source": [
    "#Make GUI\n",
    "import matplotlib.pyplot as plt\n",
    "import tkinter as tk\n",
    "from tkinter import ttk\n",
    "import numpy as np\n",
    "\n",
    "# Function to create the first plot\n",
    "def plot_simple():\n",
    "    x = [1, 2, 3, 4, 5]\n",
    "    y = [2, 4, 6, 8, 10]\n",
    "    plt.plot(x, y)\n",
    "    plt.xlabel('X-axis Label')\n",
    "    plt.ylabel('Y-axis Label')\n",
    "    plt.title('Simple Plot Example')\n",
    "    plt.show()\n",
    "\n",
    "# Function to create the second plot\n",
    "def plot_bar():\n",
    "    categories = ['Category A', 'Category B', 'Category C', 'Category D']\n",
    "    values = [25, 40, 30, 50]\n",
    "    plt.bar(categories, values, color='green', alpha=0.7)\n",
    "    plt.xlabel('Categories')\n",
    "    plt.ylabel('Values')\n",
    "    plt.title('Bar Chart Example')\n",
    "    plt.show()\n",
    "\n",
    "# Function to create the third plot\n",
    "def plot_scatter():\n",
    "    np.random.seed(42)\n",
    "    x = np.random.rand(10)\n",
    "    y = np.random.rand(10)\n",
    "    plt.scatter(x, y, color='red', label='Random Data')\n",
    "    plt.xlabel('X-axis Label')\n",
    "    plt.ylabel('Y-axis Label')\n",
    "    plt.title('Scatter Plot Example')\n",
    "    plt.legend()\n",
    "    plt.show()\n",
    "\n",
    "# Function to handle button clicks\n",
    "def on_button_click(plot_function):\n",
    "    # Clear previous plots\n",
    "    plt.clf()\n",
    "    # Call the appropriate plot function\n",
    "    plot_function()\n",
    "\n",
    "# Create the main window\n",
    "root = tk.Tk()\n",
    "root.title(\"GUI Plot\")\n",
    "\n",
    "# Create buttons for each plot\n",
    "simple_button = ttk.Button(root, text=\"Simple Plot\", command=lambda: on_button_click(plot_simple))\n",
    "bar_button = ttk.Button(root, text=\"Bar Chart\", command=lambda: on_button_click(plot_bar))\n",
    "scatter_button = ttk.Button(root, text=\"Scatter Plot\", command=lambda: on_button_click(plot_scatter))\n",
    "\n",
    "# Place buttons in the window\n",
    "simple_button.pack(pady=10)\n",
    "bar_button.pack(pady=10)\n",
    "scatter_button.pack(pady=10)\n",
    "\n",
    "# Start the main loop\n",
    "root.mainloop()\n"
   ]
  },
  {
   "cell_type": "markdown",
   "metadata": {},
   "source": [
    "Group Summary Statistics"
   ]
  },
  {
   "cell_type": "code",
   "execution_count": null,
   "metadata": {},
   "outputs": [],
   "source": [
    "## print out means by shape\n",
    "print(MatData[\"Work\"].groupby(MatData[\"shape\"]).mean())\n",
    "\n",
    "## print out means of all numeric values\n",
    "MatData.groupby(\"shape\").mean(numeric_only=True)"
   ]
  },
  {
   "cell_type": "markdown",
   "metadata": {},
   "source": [
    "## More advanced statistics\n",
    "https://towardsdatascience.com/anova-t-test-and-other-statistical-tests-with-python-e7a36a2fdc0c"
   ]
  },
  {
   "cell_type": "code",
   "execution_count": null,
   "metadata": {},
   "outputs": [],
   "source": [
    "## stats libraries\n",
    "from scipy import stats\n",
    "import pingouin as pg\n",
    "from statsmodels.multivariate.manova import MANOVA"
   ]
  },
  {
   "cell_type": "code",
   "execution_count": null,
   "metadata": {},
   "outputs": [],
   "source": [
    "## Group your data by shape for t-tests\n",
    "circle = MatData[(MatData['shape'] == 'Circle')]\n",
    "triangle = MatData[(MatData['shape'] == 'Triangle')]\n",
    "diamond = MatData[(MatData['shape'] == 'Diamond')]\n",
    "hexagon = MatData[(MatData['shape'] == 'Hexagon')]\n",
    "\n",
    "# test whether there is a difference between circle and diamond\n",
    "#print(stats.ttest_ind(circle['MaxLoad'], diamond['MaxLoad']))\n",
    "\n",
    "## for more complicated data use pingouin\n",
    "# use anova to determine if there is a difference between all your groups\n",
    "aov = pg.anova(data=MatData, dv='MaxLoad', between='shape', detailed=True)\n",
    "#print(aov)\n",
    "\n",
    "## use a paired t-test to determine exactly which groups are different\n",
    "ttest = pg.pairwise_tests(data=MatData, dv='MaxLoad', between='shape').round(5)\n",
    "#print(ttest)"
   ]
  }
 ],
 "metadata": {
  "kernelspec": {
   "display_name": "Python 3",
   "language": "python",
   "name": "python3"
  },
  "language_info": {
   "codemirror_mode": {
    "name": "ipython",
    "version": 3
   },
   "file_extension": ".py",
   "mimetype": "text/x-python",
   "name": "python",
   "nbconvert_exporter": "python",
   "pygments_lexer": "ipython3",
   "version": "3.11.5"
  }
 },
 "nbformat": 4,
 "nbformat_minor": 2
}
